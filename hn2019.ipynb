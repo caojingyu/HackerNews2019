{
 "cells": [
  {
   "cell_type": "code",
   "execution_count": 1,
   "metadata": {},
   "outputs": [],
   "source": [
    "import pandas as pd\n",
    "import numpy as np\n",
    "import matplotlib.pyplot as plt\n",
    "import seaborn as sns\n",
    "from pandas_profiling import ProfileReport\n",
    "import scipy.stats as stats\n",
    "%matplotlib inline"
   ]
  },
  {
   "cell_type": "code",
   "execution_count": 7,
   "metadata": {},
   "outputs": [],
   "source": [
    "hn2019 = pd.read_csv('hn_2019.csv', parse_dates=['date'])"
   ]
  },
  {
   "cell_type": "code",
   "execution_count": 8,
   "metadata": {},
   "outputs": [
    {
     "data": {
      "text/html": [
       "<div>\n",
       "<style scoped>\n",
       "    .dataframe tbody tr th:only-of-type {\n",
       "        vertical-align: middle;\n",
       "    }\n",
       "\n",
       "    .dataframe tbody tr th {\n",
       "        vertical-align: top;\n",
       "    }\n",
       "\n",
       "    .dataframe thead th {\n",
       "        text-align: right;\n",
       "    }\n",
       "</style>\n",
       "<table border=\"1\" class=\"dataframe\">\n",
       "  <thead>\n",
       "    <tr style=\"text-align: right;\">\n",
       "      <th></th>\n",
       "      <th>id</th>\n",
       "      <th>deleted</th>\n",
       "      <th>type</th>\n",
       "      <th>by</th>\n",
       "      <th>time</th>\n",
       "      <th>text</th>\n",
       "      <th>dead</th>\n",
       "      <th>parent</th>\n",
       "      <th>kids</th>\n",
       "      <th>url</th>\n",
       "      <th>score</th>\n",
       "      <th>title</th>\n",
       "      <th>descendants</th>\n",
       "      <th>date</th>\n",
       "    </tr>\n",
       "  </thead>\n",
       "  <tbody>\n",
       "    <tr>\n",
       "      <td>0</td>\n",
       "      <td>16248947</td>\n",
       "      <td>True</td>\n",
       "      <td>story</td>\n",
       "      <td>NaN</td>\n",
       "      <td>1.546453e+09</td>\n",
       "      <td>NaN</td>\n",
       "      <td>False</td>\n",
       "      <td>NaN</td>\n",
       "      <td>[]</td>\n",
       "      <td>NaN</td>\n",
       "      <td>NaN</td>\n",
       "      <td>NaN</td>\n",
       "      <td>NaN</td>\n",
       "      <td>2019-01-02 18:09:37</td>\n",
       "    </tr>\n",
       "    <tr>\n",
       "      <td>1</td>\n",
       "      <td>16249109</td>\n",
       "      <td>True</td>\n",
       "      <td>story</td>\n",
       "      <td>NaN</td>\n",
       "      <td>1.546453e+09</td>\n",
       "      <td>NaN</td>\n",
       "      <td>False</td>\n",
       "      <td>NaN</td>\n",
       "      <td>[]</td>\n",
       "      <td>NaN</td>\n",
       "      <td>NaN</td>\n",
       "      <td>NaN</td>\n",
       "      <td>NaN</td>\n",
       "      <td>2019-01-02 18:09:37</td>\n",
       "    </tr>\n",
       "    <tr>\n",
       "      <td>2</td>\n",
       "      <td>16249110</td>\n",
       "      <td>True</td>\n",
       "      <td>story</td>\n",
       "      <td>NaN</td>\n",
       "      <td>1.546453e+09</td>\n",
       "      <td>NaN</td>\n",
       "      <td>False</td>\n",
       "      <td>NaN</td>\n",
       "      <td>[]</td>\n",
       "      <td>NaN</td>\n",
       "      <td>NaN</td>\n",
       "      <td>NaN</td>\n",
       "      <td>NaN</td>\n",
       "      <td>2019-01-02 18:09:37</td>\n",
       "    </tr>\n",
       "    <tr>\n",
       "      <td>3</td>\n",
       "      <td>18797959</td>\n",
       "      <td>False</td>\n",
       "      <td>comment</td>\n",
       "      <td>ehsankia</td>\n",
       "      <td>1.546301e+09</td>\n",
       "      <td>Tell me about it. To cancel my NYT subscriptio...</td>\n",
       "      <td>False</td>\n",
       "      <td>18797269.0</td>\n",
       "      <td>[]</td>\n",
       "      <td>NaN</td>\n",
       "      <td>NaN</td>\n",
       "      <td>NaN</td>\n",
       "      <td>NaN</td>\n",
       "      <td>2019-01-01 00:00:56</td>\n",
       "    </tr>\n",
       "    <tr>\n",
       "      <td>4</td>\n",
       "      <td>18797960</td>\n",
       "      <td>False</td>\n",
       "      <td>comment</td>\n",
       "      <td>shostack</td>\n",
       "      <td>1.546301e+09</td>\n",
       "      <td>This is actually something I&amp;#x27;ve encounter...</td>\n",
       "      <td>False</td>\n",
       "      <td>18790788.0</td>\n",
       "      <td>[]</td>\n",
       "      <td>NaN</td>\n",
       "      <td>NaN</td>\n",
       "      <td>NaN</td>\n",
       "      <td>NaN</td>\n",
       "      <td>2019-01-01 00:01:20</td>\n",
       "    </tr>\n",
       "  </tbody>\n",
       "</table>\n",
       "</div>"
      ],
      "text/plain": [
       "         id  deleted     type        by          time  \\\n",
       "0  16248947     True    story       NaN  1.546453e+09   \n",
       "1  16249109     True    story       NaN  1.546453e+09   \n",
       "2  16249110     True    story       NaN  1.546453e+09   \n",
       "3  18797959    False  comment  ehsankia  1.546301e+09   \n",
       "4  18797960    False  comment  shostack  1.546301e+09   \n",
       "\n",
       "                                                text   dead      parent kids  \\\n",
       "0                                                NaN  False         NaN   []   \n",
       "1                                                NaN  False         NaN   []   \n",
       "2                                                NaN  False         NaN   []   \n",
       "3  Tell me about it. To cancel my NYT subscriptio...  False  18797269.0   []   \n",
       "4  This is actually something I&#x27;ve encounter...  False  18790788.0   []   \n",
       "\n",
       "   url  score title  descendants                date  \n",
       "0  NaN    NaN   NaN          NaN 2019-01-02 18:09:37  \n",
       "1  NaN    NaN   NaN          NaN 2019-01-02 18:09:37  \n",
       "2  NaN    NaN   NaN          NaN 2019-01-02 18:09:37  \n",
       "3  NaN    NaN   NaN          NaN 2019-01-01 00:00:56  \n",
       "4  NaN    NaN   NaN          NaN 2019-01-01 00:01:20  "
      ]
     },
     "execution_count": 8,
     "metadata": {},
     "output_type": "execute_result"
    }
   ],
   "source": [
    "hn2019.head()"
   ]
  },
  {
   "cell_type": "code",
   "execution_count": 10,
   "metadata": {},
   "outputs": [
    {
     "name": "stdout",
     "output_type": "stream",
     "text": [
      "<class 'pandas.core.frame.DataFrame'>\n",
      "RangeIndex: 3127116 entries, 0 to 3127115\n",
      "Data columns (total 14 columns):\n",
      "id             int64\n",
      "deleted        bool\n",
      "type           object\n",
      "by             object\n",
      "time           float64\n",
      "text           object\n",
      "dead           bool\n",
      "parent         float64\n",
      "kids           object\n",
      "url            object\n",
      "score          float64\n",
      "title          object\n",
      "descendants    float64\n",
      "date           datetime64[ns]\n",
      "dtypes: bool(2), datetime64[ns](1), float64(4), int64(1), object(6)\n",
      "memory usage: 292.3+ MB\n"
     ]
    }
   ],
   "source": [
    "hn2019.info()"
   ]
  },
  {
   "cell_type": "code",
   "execution_count": 11,
   "metadata": {},
   "outputs": [],
   "source": [
    "hn2019['day'] = hn2019['date'].dt.dayofweek"
   ]
  },
  {
   "cell_type": "code",
   "execution_count": 15,
   "metadata": {},
   "outputs": [
    {
     "data": {
      "text/plain": [
       "day\n",
       "0    483017\n",
       "1    516177\n",
       "2    515055\n",
       "3    503990\n",
       "4    474814\n",
       "5    313099\n",
       "6    320964\n",
       "Name: id, dtype: int64"
      ]
     },
     "execution_count": 15,
     "metadata": {},
     "output_type": "execute_result"
    }
   ],
   "source": [
    "hn2019.groupby('day').count()['id']"
   ]
  },
  {
   "cell_type": "code",
   "execution_count": 19,
   "metadata": {},
   "outputs": [
    {
     "data": {
      "image/png": "[encoded data removed]",
      "text/plain": [
       "<Figure size 432x288 with 1 Axes>"
      ]
     },
     "metadata": {
      "needs_background": "light"
     },
     "output_type": "display_data"
    }
   ],
   "source": [
    "#num of posts happen each day of the week \n",
    "_ = plt.bar(hn2019.groupby('day').count()['id'].index, hn2019.groupby('day').count()['id'].values)\n",
    "_ = plt.xticks(hn2019.groupby('day').count()['id'].index, ['Mon', 'Tue', 'Wed', 'Thu', 'Fri', 'Sat', 'Sun'])\n",
    "_ = plt.xlabel('day of week')\n",
    "_ = plt.ylabel('num of posts')"
   ]
  },
  {
   "cell_type": "code",
   "execution_count": 23,
   "metadata": {},
   "outputs": [
    {
     "data": {
      "text/plain": [
       "hour\n",
       "0     111264\n",
       "1      99071\n",
       "2      92074\n",
       "3      87160\n",
       "4      80785\n",
       "5      78259\n",
       "6      78998\n",
       "7      81609\n",
       "8      84378\n",
       "9      85021\n",
       "10     88153\n",
       "11     97284\n",
       "12    119208\n",
       "13    147624\n",
       "14    175304\n",
       "15    194707\n",
       "16    204905\n",
       "17    207500\n",
       "18    199233\n",
       "19    188124\n",
       "20    182241\n",
       "21    168144\n",
       "22    148182\n",
       "23    127888\n",
       "Name: id, dtype: int64"
      ]
     },
     "execution_count": 23,
     "metadata": {},
     "output_type": "execute_result"
    }
   ],
   "source": [
    "hn2019['hour'] = hn2019['date'].dt.hour\n",
    "hn2019.groupby('hour').count()['id']"
   ]
  },
  {
   "cell_type": "code",
   "execution_count": 24,
   "metadata": {},
   "outputs": [
    {
     "data": {
      "image/png": "[encoded data removed]",
      "text/plain": [
       "<Figure size 432x288 with 1 Axes>"
      ]
     },
     "metadata": {
      "needs_background": "light"
     },
     "output_type": "display_data"
    }
   ],
   "source": [
    "#hour of day posted uct\n",
    "_ = plt.bar(hn2019.groupby('hour').count()['id'].index, hn2019.groupby('hour').count()['id'].values)\n",
    "_ = plt.xlabel('hour of day')\n",
    "_ = plt.ylabel('num of post')"
   ]
  },
  {
   "cell_type": "code",
   "execution_count": 39,
   "metadata": {},
   "outputs": [
    {
     "data": {
      "image/png": "[encoded data removed]",
      "text/plain": [
       "<Figure size 576x432 with 2 Axes>"
      ]
     },
     "metadata": {
      "needs_background": "light"
     },
     "output_type": "display_data"
    }
   ],
   "source": [
    "#heatmap day - hour\n",
    "_ = plt.figure(figsize=(8, 6))\n",
    "_ = sns.heatmap(hn2019.groupby(['day', 'hour']).count()['id'].unstack())\n",
    "_ = plt.yticks(hn2019.groupby('day').count()['id'].index, ['Mon', 'Tue', 'Wed', 'Thu', 'Fri', 'Sat', 'Sun'])\n"
   ]
  },
  {
   "cell_type": "code",
   "execution_count": null,
   "metadata": {},
   "outputs": [],
   "source": []
  },
  {
   "cell_type": "code",
   "execution_count": null,
   "metadata": {},
   "outputs": [],
   "source": []
  }
 ],
 "metadata": {
  "kernelspec": {
   "display_name": "Python 3",
   "language": "python",
   "name": "python3"
  },
  "language_info": {
   "codemirror_mode": {
    "name": "ipython",
    "version": 3
   },
   "file_extension": ".py",
   "mimetype": "text/x-python",
   "name": "python",
   "nbconvert_exporter": "python",
   "pygments_lexer": "ipython3",
   "version": "3.7.4"
  }
 },
 "nbformat": 4,
 "nbformat_minor": 2
}
